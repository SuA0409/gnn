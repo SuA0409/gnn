{
 "cells": [
  {
   "cell_type": "markdown",
   "id": "5986596b",
   "metadata": {},
   "source": [
    "### Creating Message Passing Networks"
   ]
  },
  {
   "cell_type": "markdown",
   "id": "11a0c79a",
   "metadata": {},
   "source": [
    "#### The \"MessagePassing\" Base Class"
   ]
  },
  {
   "attachments": {
    "image.png": {
     "image/png": "[encoded data removed]"
    }
   },
   "cell_type": "markdown",
   "id": "52504416",
   "metadata": {},
   "source": [
    "![image.png](attachment:image.png)"
   ]
  },
  {
   "cell_type": "markdown",
   "id": "eabbdc22",
   "metadata": {},
   "source": [
    "- x_i(k-1): (k-1) layer에서 i node의 node feature\n",
    "- e_j,i: (optional) node j -> i의 edge feature\n",
    "- 큰동그라미+: differentiable, permutation invariant function (e.g. sum, mean, max, ...)\n",
    "- gamma, pi: differentiable function (e.g. MLP, ...)"
   ]
  },
  {
   "cell_type": "markdown",
   "id": "f0e9d7ce",
   "metadata": {},
   "source": [
    "< MessagePassing 순서 >\n",
    "0. propagate() 호출: MessagePassing 시작함을 의미\n",
    "1. message(): edge-level message\n",
    "    - propagate() 내부에서 호출됨 \n",
    "    - 이의 반환값이 aggregation 됨\n",
    "    - 위 공식에서는 'pi'를 의미\n",
    "2. aggregation: node-level aggregation\n",
    "    - propagate()가 message()의 반환값을 가지고 aggregation 수행\n",
    "    - target node별로 모든 이웃 노드의 메시지(message()의 반환값)를 더함\n",
    "    - aggr=\"add\", \"mean\", or \"max\" 등 사용자가 선정한 것에 따라 수행\n",
    "    - 위 공식에서는 '큰동그라미+'를 의미\n",
    "    - 보통 여기서의 output이 최종 output (새로운 node embedding(=node feature))\n",
    "3. update: (optional)\n",
    "    - aggregation 한 후에 '후처리 기능 추가 시' 사용 (ex. skip connection, batch 정규화 등)\n",
    "    - 대부분의 경우 update() 사용 X\n",
    "    - 위 공식에서는 'gamma'를 의미"
   ]
  },
  {
   "cell_type": "markdown",
   "id": "6e0baca6",
   "metadata": {},
   "source": [
    "#### Implementing the GCN layer"
   ]
  },
  {
   "attachments": {
    "image.png": {
     "image/png": "[encoded data removed]"
    }
   },
   "cell_type": "markdown",
   "id": "367ef42b",
   "metadata": {},
   "source": [
    "![image.png](attachment:image.png)"
   ]
  },
  {
   "cell_type": "code",
   "execution_count": 2,
   "id": "97251293",
   "metadata": {},
   "outputs": [],
   "source": [
    "import torch\n",
    "from torch.nn import Linear, Parameter\n",
    "from torch_geometric.nn import MessagePassing\n",
    "from torch_geometric.utils import add_self_loops, degree"
   ]
  },
  {
   "cell_type": "code",
   "execution_count": null,
   "id": "0a438018",
   "metadata": {},
   "outputs": [],
   "source": [
    "class GCNConv(MessagePassing):\n",
    "    def __init__(self, in_channels, out_channels):\n",
    "        super().__init__(aggr='add')  # \"Add\" aggregation (Step 5).\n",
    "        self.lin = Linear(in_channels, out_channels, bias=False)\n",
    "        # x @ self.lin.weight.T를 수행하는 선형 변환 (bias=False이므로 +bias 없음)\n",
    "        # (x.shape: [N, in_channels], self.lin.weight.shape: [out_channels, in_channels])\n",
    "        self.bias = Parameter(torch.empty(out_channels))\n",
    "        # 학습 가능한 bias 파라미터 (shape: [out_channels])\n",
    "        # torch.empty() -> 메모리만 잡아놓고 값은 초기화하지 않음\n",
    "\n",
    "        self.reset_parameters()\n",
    "        # self.lin.reset_parameters() -> 선형 변환의 weight 초기화\n",
    "        # self.bias.data.zero_() -> bias를 0으로 초기화\n",
    "        # forward() 마지막에 각 노드 embedding(=output)에 같은 bias 벡터를 더해줌\n",
    "\n",
    "    def reset_parameters(self):\n",
    "        self.lin.reset_parameters()\n",
    "        self.bias.data.zero_()\n",
    "\n",
    "    def forward(self, x, edge_index):\n",
    "        # linear transformation -> normalization -> message passing -> bias addition\n",
    "        \n",
    "        # (before self.lin(x)) x.shape: [N, in_channels]\n",
    "        # edge_index.shpae: [2, E]\n",
    "\n",
    "        # Step 1: Add self-loops to the adjacency matrix.\n",
    "        edge_index, _ = add_self_loops(edge_index, num_nodes=x.size(0))\n",
    "\n",
    "        # Step 2: Linearly transform node feature matrix.\n",
    "        x = self.lin(x)\n",
    "        # (after self.lin(x)) x.shape: [N, out_channels]\n",
    "        # 각 노드의 feature vector(길이 in_channels)에 \n",
    "        # 같은 weight matrix(self.lin.weight.T)을 곱해서\n",
    "        # 새로운 feature vector(길이 out_channels)로 변환\n",
    "\n",
    "        # Step 3: Compute normalization.\n",
    "        # norm 계산(degree normalization) -> edge weight(이것은 edge_attr로 사용)\n",
    "        row, col = edge_index\n",
    "        deg = degree(col, x.size(0), dtype=x.dtype)\n",
    "        deg_inv_sqrt = deg.pow(-0.5)\n",
    "        deg_inv_sqrt[deg_inv_sqrt == float('inf')] = 0\n",
    "        norm = deg_inv_sqrt[row] * deg_inv_sqrt[col]\n",
    "\n",
    "        # Step 4-5: Start propagating messages.\n",
    "        # node-level aggregation \n",
    "        # Step 5는 propagate()에서 수행 (propagate() 내부에서 message()가 호출됨)\n",
    "        out = self.propagate(edge_index, x=x, norm=norm)\n",
    "        # out.shape: [N, out_channels]\n",
    "        # target node 별로 모든 이웃 노드의 메시지를 aggreation한 결과\n",
    "\n",
    "        # Step 6: Apply a final bias vector.\n",
    "        out = out + self.bias\n",
    "        # 최종 output: 새로운 node embedding(=node feature) (shape: [N, out_channels])\n",
    "\n",
    "        return out\n",
    "\n",
    "    def message(self, x_j, norm):\n",
    "        # edge-level message\n",
    "        # x_j: 이웃 노드의 feature (shape: [num_edges(E), out_channels])\n",
    "\n",
    "        # Step 4: Normalize node features.\n",
    "        # 아직 node-level aggregation은 수행 전\n",
    "        return norm.view(-1, 1) * x_j\n",
    "        # norm.view(-1, 1): edge 별 normalization weight (shape: [E, 1])\n",
    "        # * x_j: 각 edge마다 weight가 적용된 message (shape: [E, out_channels])\n",
    "\n",
    "        # Step 5: Start propagating messages\n",
    "        # propagate()가 message()의 반환값을 가지고 aggregation 수행 \n",
    "        # => target node별로 모든 이웃 노드의 메시지를 더함 (= node-level aggregation)\n",
    "        # 그 결과가 forward()의 out 변수에 저장"
   ]
  },
  {
   "cell_type": "code",
   "execution_count": 13,
   "id": "ca5435c5",
   "metadata": {},
   "outputs": [],
   "source": [
    "from torch_geometric.data import Data\n",
    "\n",
    "# example data\n",
    "\n",
    "# node feature matrix (N: number of nodes, F: number of features)\n",
    "num_nodes = 10     # N (number of nodes)\n",
    "in_channels = 16   # F (number of input features = conv input dimension)\n",
    "x = torch.randn((num_nodes, in_channels))  # (10, 16)\n",
    "\n",
    "# edge_index\n",
    "edge_index = torch.tensor([\n",
    "    [0, 1, 2, 3, 4, 5, 6, 7, 8],\n",
    "    [1, 2, 3, 4, 5, 6, 7, 8, 9]\n",
    "], dtype=torch.long)  # shape [2, 9]\n",
    "\n",
    "# Data 객체 (선택)\n",
    "data = Data(x=x, edge_index=edge_index)\n",
    "# x와 edge_index로 설정\n",
    "x, edge_index = data.x, data.edge_index"
   ]
  },
  {
   "cell_type": "code",
   "execution_count": 5,
   "id": "f19fa415",
   "metadata": {},
   "outputs": [
    {
     "data": {
      "text/plain": [
       "(tensor([[-0.1557, -0.6340,  0.9235, -0.1283,  1.6766, -0.1998, -0.3548, -0.0600,\n",
       "          -0.5952, -0.6054, -2.6622, -0.2903, -2.1100, -0.6973,  0.0069, -1.7315],\n",
       "         [-1.1252, -0.1487, -0.8301, -0.1562,  0.8740,  0.8406,  2.1420,  0.6281,\n",
       "          -1.2890, -0.2314, -0.0507, -0.3933, -0.1380, -0.2212,  0.3423,  1.1930],\n",
       "         [ 0.7579,  0.1842, -1.1967, -0.4789,  0.6266,  0.5069, -0.8254, -1.5471,\n",
       "          -0.1261,  0.3653, -1.5065,  0.8333, -1.4173, -1.0574, -0.0937, -0.9320],\n",
       "         [-0.3772,  0.8901, -0.8133,  1.7867,  0.7926,  0.5603,  0.5234, -0.7247,\n",
       "          -0.7521, -0.5998, -0.6681, -0.4501,  0.5465, -0.8794, -1.1399, -1.2021],\n",
       "         [ 0.6263,  1.2276,  0.7314,  0.3718, -0.4399, -0.4467, -0.1013, -0.1700,\n",
       "          -0.4564,  0.6543, -1.9673, -0.2404,  0.9518, -0.5707,  1.2592, -0.3991],\n",
       "         [-1.3911, -0.4194, -0.4412,  1.9082, -0.3259, -0.8498,  0.3659, -1.0969,\n",
       "          -1.1946, -0.7859, -1.0705, -0.5274, -0.0306, -1.0431,  0.3531, -1.7352],\n",
       "         [-1.1107, -0.4855,  0.6296, -0.1148,  0.9367, -0.2494, -2.6564, -0.6875,\n",
       "           1.4474, -0.4466,  0.5036,  0.3737,  0.5455, -1.1104, -0.4065,  0.6591],\n",
       "         [ 0.0453,  1.5101, -0.5659,  1.4622, -1.4534, -0.5549,  0.5366, -0.0142,\n",
       "          -0.9848, -0.6440,  1.4618, -2.0310,  0.1604,  0.3569,  0.0483, -2.0538],\n",
       "         [ 1.1413,  0.5701, -0.4937, -1.1220, -0.3746, -1.5606,  1.2354,  1.7737,\n",
       "           0.8196,  0.9699,  0.6831, -0.3853, -0.7361, -1.2006,  1.2706, -0.4185],\n",
       "         [ 0.5456,  0.5755, -0.4215,  0.7038,  0.6391, -1.2093, -0.6304,  0.5600,\n",
       "          -2.1852, -0.9679,  0.7070, -0.5856,  0.9968,  0.6824,  1.1190, -1.9331]]),\n",
       " tensor([[0, 1, 2, 3, 4, 5, 6, 7, 8],\n",
       "         [1, 2, 3, 4, 5, 6, 7, 8, 9]]),\n",
       " torch.Size([10, 16]),\n",
       " torch.Size([2, 9]))"
      ]
     },
     "execution_count": 5,
     "metadata": {},
     "output_type": "execute_result"
    }
   ],
   "source": [
    "x, edge_index, x.shape, edge_index.shape"
   ]
  },
  {
   "cell_type": "code",
   "execution_count": 6,
   "id": "bfede436",
   "metadata": {},
   "outputs": [],
   "source": [
    "conv = GCNConv(16, 32)\n",
    "new_x = conv(x, edge_index)"
   ]
  },
  {
   "cell_type": "code",
   "execution_count": 7,
   "id": "fc6579ec",
   "metadata": {},
   "outputs": [
    {
     "data": {
      "text/plain": [
       "tensor([[-0.7044,  0.1420, -0.5486,  0.1332, -0.9705,  0.7100,  0.4120, -0.1445,\n",
       "          0.6693, -0.7319,  0.8884, -0.3125, -0.5069,  0.3522, -0.5071, -0.2439,\n",
       "          0.0421, -0.2393,  0.1231,  1.2130,  0.2865, -0.7532,  0.5559,  0.2047,\n",
       "          0.1097,  0.4924, -0.5982, -0.0792,  1.0022, -0.2331, -0.2585, -0.5435],\n",
       "        [-0.0649, -0.0163, -0.4648,  0.2509, -0.9227,  0.4041, -0.0218, -0.2939,\n",
       "          0.0147, -0.5449,  0.3797, -0.2877, -0.0707,  0.1010, -0.5315, -0.5065,\n",
       "         -0.0431, -0.2452, -0.1999,  0.6841, -0.2047, -0.5453,  0.4491, -0.2308,\n",
       "          0.2037,  0.7959, -0.1516,  0.1993,  0.8564, -0.1138, -0.2719, -0.1512],\n",
       "        [ 0.3164, -0.1833, -0.1918, -0.0160, -0.0255, -0.0975, -0.3071, -0.4730,\n",
       "          0.0092,  0.1755,  0.2879, -0.4840,  0.1705, -0.2060, -0.4538, -0.3294,\n",
       "          0.0756, -0.0391, -0.2046,  0.2110, -0.0986, -0.2082,  0.4362, -0.2069,\n",
       "          0.1331,  0.7108,  0.3772,  0.4337,  0.5170,  0.1955,  0.2599,  0.0629],\n",
       "        [ 0.3751,  0.1971, -0.2301, -0.4162,  0.2302,  0.1423, -0.3976, -0.2607,\n",
       "          0.2387,  0.3520,  0.7278, -0.1271, -0.0446, -0.2234, -0.7413, -0.0457,\n",
       "         -0.0560,  0.3985, -0.3252,  0.5618,  0.1105,  0.0897,  0.8457,  0.1781,\n",
       "          0.2158,  0.6527,  0.8912,  0.2713,  0.5115,  0.3685,  0.3204, -0.4590],\n",
       "        [ 0.4727,  0.5901, -0.0109,  0.0107,  0.1601,  0.1389, -0.3156,  0.1577,\n",
       "         -0.3293,  0.6284,  0.3627,  0.2845, -0.3532,  0.1512, -0.3445, -0.2828,\n",
       "         -0.2674,  0.0647, -0.4754,  0.2187, -0.3724,  0.5613,  0.6998,  0.0223,\n",
       "          0.0899,  0.2144,  0.9266,  0.2338,  0.0090,  0.6493,  0.1811, -0.1055],\n",
       "        [ 0.2119,  0.5329,  0.1274,  0.2954, -0.2016,  0.4211, -0.0461,  0.2235,\n",
       "         -0.1949,  0.5778,  0.4607,  0.1184, -0.7061,  0.1451, -0.5003, -0.1250,\n",
       "         -0.6098,  0.2142, -0.3668,  0.1618, -0.4577,  0.4506,  0.6084, -0.1738,\n",
       "          0.0833,  0.0228,  0.8875,  0.0760,  0.2003,  0.6595,  0.2439, -0.2546],\n",
       "        [-0.1729,  0.4903,  0.0138, -0.3925, -0.4055,  0.5383, -0.2530, -0.0955,\n",
       "          0.1050, -0.2716,  0.0974,  0.0424, -0.7896, -0.0417, -0.6616,  0.8506,\n",
       "         -0.6124,  0.4869,  0.1029,  0.2282, -0.1015, -0.0880,  0.5219, -0.4353,\n",
       "          0.0559,  0.2441,  0.3030,  0.1840,  0.4712,  0.1337,  0.0218, -0.7808],\n",
       "        [-0.0994,  0.2727, -0.0104, -0.5056, -0.1791,  0.2353,  0.2527,  0.4375,\n",
       "         -0.0996, -0.1303,  0.2516,  0.4121,  0.0414,  0.2188, -0.3247,  0.4579,\n",
       "         -0.4258,  0.7423,  0.2423, -0.0179, -0.2300,  0.2553,  0.1748, -0.0850,\n",
       "          0.1198,  0.1180,  0.7267,  0.0322, -0.1917, -0.1231, -0.4384, -0.5058],\n",
       "        [ 0.0729, -0.5100,  0.0370,  0.1867,  0.2273,  0.0899,  0.8116,  1.0097,\n",
       "          0.2114,  0.7160,  0.5118,  0.5961,  0.7243,  0.1416, -0.1503, -0.4878,\n",
       "         -0.2474,  0.7076,  0.2345, -0.0548, -0.7945,  1.1899,  0.0302,  0.2752,\n",
       "          0.4380,  0.1415,  1.1772, -0.2269, -0.1128,  0.1402, -0.8592,  0.7243],\n",
       "        [-0.1988, -0.4435,  0.4647,  0.1208,  0.0874, -0.2053,  0.8732,  0.8734,\n",
       "          0.4883,  0.6364,  0.3661,  0.6742,  0.4571, -0.0111,  0.0076, -0.0406,\n",
       "         -0.1725,  0.0602, -0.1487, -0.0327, -0.6915,  0.7997, -0.2080,  0.0085,\n",
       "          0.8425, -0.0414,  0.4548, -0.1163,  0.3703,  0.1882, -0.5537,  0.7345]],\n",
       "       grad_fn=<AddBackward0>)"
      ]
     },
     "execution_count": 7,
     "metadata": {},
     "output_type": "execute_result"
    }
   ],
   "source": [
    "new_x   # nwe_x.shape: [num_nodes, out_channels] = [10, 32]\n",
    "# 이웃 노드 정보까지 모두 반영된 새로운 node embedding (= node feature)\n",
    "# 즉, message passing의 최종 결과"
   ]
  },
  {
   "cell_type": "markdown",
   "id": "ab7a3c78",
   "metadata": {},
   "source": [
    "#### Implementing the Edge Convolution"
   ]
  },
  {
   "attachments": {
    "image.png": {
     "image/png": "[encoded data removed]"
    }
   },
   "cell_type": "markdown",
   "id": "098d1822",
   "metadata": {},
   "source": [
    "![image.png](attachment:image.png)"
   ]
  },
  {
   "cell_type": "code",
   "execution_count": 1,
   "id": "32f7b07d",
   "metadata": {},
   "outputs": [],
   "source": [
    "import torch\n",
    "from torch.nn import Sequential as Seq, Linear, ReLU\n",
    "from torch_geometric.nn import MessagePassing"
   ]
  },
  {
   "cell_type": "code",
   "execution_count": null,
   "id": "750dded6",
   "metadata": {},
   "outputs": [],
   "source": [
    "class EdgeConv(MessagePassing):\n",
    "    def __init__(self, in_channels, out_channels):\n",
    "        super().__init__(aggr='max') #  \"Max\" aggregation.\n",
    "        self.mlp = Seq(Linear(2 * in_channels, out_channels),\n",
    "                       ReLU(),\n",
    "                       Linear(out_channels, out_channels))\n",
    "        # self.mlp: edge 별 messaage(관계 표현 (feature))를 만드는 신경망\n",
    "        # 2 layers MLP: Linear 1 -> ReLU -> Linear 2\n",
    "        # Linear 1: tmp @ W1 + b1 -> [E, 2*in_channels] @ [2*in_channels, out_channels] = [E, out_channels]\n",
    "        # Linear 2: [E, out_channels] @ W2 + b2 -> [E, out_channels] @ [out_channels, out_channels] = [E, out_channels]\n",
    "\n",
    "    def forward(self, x, edge_index):\n",
    "        # x.shape [N, in_channels], edge_index.shape [2, E]\n",
    "\n",
    "        # normalization 없는 이유: \"관계(feature 차이)\" 중심 -> edge weight 필요 없음\n",
    "        # GCNConv: degree 정규화를 통해 sum aggregation을 통해 scale이 커지는 것을 방지\n",
    "        # EdgeConv: max aggregation사용(단순 최대값)을 사용 -> scale이 커지는 문제 없음\n",
    "\n",
    "        # self-loops 추가 안하는 이유: \"관계(feature 차이)\" 중심 -> 자기 자신과의 관계는 의미 없음\n",
    "        # GCNConv: sum/mean aggr을 하기 때문에 자기 자신 정보가 사라지지 않도록 하기 위해서 self-loops 추가 (자기 정보도 같이 sum/mean)\n",
    "        # EdgeConv: message() 계산에 x_i(자기 자신 feature)가 들어가기 때문에 자기 자신 정보가 사라지지 않음\n",
    "\n",
    "        return self.propagate(edge_index, x=x)\n",
    "        # propagate() 호출 -> 내부에서 message() 호출 -> message() 반환값으로 node-level aggregation 수행 (-> update() 호출(optional))\n",
    "\n",
    "    def message(self, x_i, x_j):\n",
    "        # x_i: 현재 node의 feature (shape: [E, in_channels])\n",
    "        # x_j-x_i: 이웃과의 상대적 차이(= edge 방향성 + 관계의 특성) (shape: [E, in_channels])\n",
    "\n",
    "        tmp = torch.cat([x_i, x_j - x_i], dim=1)  \n",
    "        # tmp: 자신과 이웃 노드와의 관계를 표현하는 edge-level feature (shape: [E, 2 * in_channels])\n",
    "        # 엣지 별 관계 embedding (feature)\n",
    "        # 엣지 하나당 하나의 메세지를 계산해서 반환\n",
    "\n",
    "        # dim=1: [E, in_channels + in_channels] = [E, 2 * in_channels]\n",
    "        # 즉, feature dimension 기준으로 concat\n",
    "        # (dim=0이었다면, [in_channels, E + E] = [in_channels, 2 * E])\n",
    "        return self.mlp(tmp)\n"
   ]
  },
  {
   "cell_type": "code",
   "execution_count": 14,
   "id": "b6815da7",
   "metadata": {},
   "outputs": [],
   "source": [
    "conv = EdgeConv(16, 32)\n",
    "new_x_edge = conv(x, edge_index)"
   ]
  },
  {
   "cell_type": "code",
   "execution_count": 16,
   "id": "c6b44bef",
   "metadata": {},
   "outputs": [
    {
     "data": {
      "text/plain": [
       "(tensor([[ 0.0000,  0.0000,  0.0000,  0.0000,  0.0000,  0.0000,  0.0000,  0.0000,\n",
       "           0.0000,  0.0000,  0.0000,  0.0000,  0.0000,  0.0000,  0.0000,  0.0000,\n",
       "           0.0000,  0.0000,  0.0000,  0.0000,  0.0000,  0.0000,  0.0000,  0.0000,\n",
       "           0.0000,  0.0000,  0.0000,  0.0000,  0.0000,  0.0000,  0.0000,  0.0000],\n",
       "         [ 0.0795,  0.4352,  0.0347,  0.3308, -0.2521,  0.0338, -0.0346,  0.3507,\n",
       "           0.4247, -0.0457,  0.3659,  0.0986, -0.2224,  0.1793, -0.0667,  0.1005,\n",
       "          -0.0350,  0.6152, -0.4096, -0.2532, -0.1143,  0.3358, -0.0113,  0.2455,\n",
       "           0.0236,  0.2381, -0.4448, -0.4522, -0.0812, -0.2838,  0.1898, -0.5406],\n",
       "         [-0.0440,  0.6622,  0.3829, -0.0832, -0.3322, -0.3408, -0.2706,  0.3652,\n",
       "           0.2327, -0.1484, -0.3788,  0.1236, -0.0976, -0.0059, -0.1401, -0.3182,\n",
       "           0.1191, -0.0755,  0.0722, -0.8677, -0.0345,  0.0535,  0.3178,  0.0615,\n",
       "           0.5098,  0.6048, -0.1523, -0.0704, -0.0991, -0.0456, -0.3984,  0.2766],\n",
       "         [-0.3416,  0.4452, -0.3733,  0.0429, -0.4444,  0.2403, -0.3723, -0.4798,\n",
       "          -0.0436,  0.1444, -0.1693,  0.2151,  0.3403,  0.0108, -0.3090, -0.5952,\n",
       "          -0.0740,  0.6002,  0.1641, -0.8204,  0.1450, -0.3651,  0.1118,  0.1264,\n",
       "          -0.1128, -0.4223, -0.2356, -0.9448,  0.0300, -0.4184,  0.3137,  0.2494],\n",
       "         [-0.0366,  0.5252,  0.3687, -0.4520, -0.5135,  0.0151, -0.2065,  0.4621,\n",
       "           0.1178, -0.6392, -0.2215, -0.2105, -0.1444, -0.3012,  0.3424, -0.2340,\n",
       "           0.4187,  0.1751, -0.1996, -0.8343, -0.7162,  0.2538, -0.1963,  0.0100,\n",
       "           0.5224,  0.4655, -0.1759, -0.7201,  0.1714, -0.2415,  0.0179,  0.2265],\n",
       "         [ 0.0125,  0.4341,  0.0214, -0.2436, -0.6544, -0.1597, -0.0754,  0.2253,\n",
       "           0.5306, -0.3701, -0.1469, -0.0972,  0.0174,  0.4780, -0.0356,  0.0222,\n",
       "           0.2947,  0.2231, -0.1689, -0.8463,  0.1326,  0.0776, -0.0284, -0.1615,\n",
       "           0.7662,  0.3050, -0.0601, -0.3075,  0.2569, -0.1371, -0.0393, -0.2178],\n",
       "         [-0.2530,  0.5804, -0.0232,  0.3515, -0.3901,  0.1802,  0.1401,  0.6250,\n",
       "           0.1826,  0.7869,  0.3035,  0.4566, -0.4688, -0.2040, -0.4041, -0.5132,\n",
       "           0.0500,  0.8056,  0.2872,  0.0482, -0.1161,  0.0434,  0.7279,  0.5940,\n",
       "          -0.4626, -0.2585, -0.2682, -0.5709, -0.5034,  0.2570, -0.3321,  0.4802],\n",
       "         [-0.4599,  0.6839,  0.1807, -0.2744, -0.3570,  0.4137,  0.0299, -0.1864,\n",
       "           0.2297,  0.2205,  0.0849, -0.0459, -0.1241, -0.0954,  0.4491, -0.6414,\n",
       "           0.2600,  0.6297, -0.6292, -0.3323, -0.1747,  0.3196, -0.0668,  0.6443,\n",
       "          -0.0171, -0.1498, -0.2690, -0.6022,  0.0731,  0.3053, -0.2436, -0.1184],\n",
       "         [ 0.3205,  0.1655,  0.0731, -0.2312, -0.1553,  0.3977, -0.2723,  0.3790,\n",
       "           0.2684, -0.4728,  0.1389, -0.0724, -0.4384,  0.4124,  0.1715,  0.4133,\n",
       "           0.0054,  0.1298, -0.3430, -0.5040, -0.5487,  0.2546, -0.2240,  0.1868,\n",
       "           0.1497,  0.5002, -0.3197, -0.5119,  0.3094, -0.1552, -0.0809, -0.1165],\n",
       "         [-0.0719,  0.2614,  0.1732, -0.2809, -0.3322,  0.0763,  0.0437,  0.0508,\n",
       "           0.0198, -0.0940, -0.0291,  0.0169, -0.2442, -0.4213,  0.0212, -0.5302,\n",
       "           0.2462,  0.0493, -0.2911, -0.6790,  0.1105,  0.1464,  0.1958,  0.1873,\n",
       "           0.3186, -0.0809,  0.0746, -0.2277,  0.1290,  0.0787, -0.2999,  0.0693]],\n",
       "        grad_fn=<ScatterReduceBackward0>),\n",
       " torch.Size([10, 32]))"
      ]
     },
     "execution_count": 16,
     "metadata": {},
     "output_type": "execute_result"
    }
   ],
   "source": [
    "new_x_edge, new_x_edge.shape"
   ]
  },
  {
   "cell_type": "code",
   "execution_count": null,
   "id": "87408236",
   "metadata": {},
   "outputs": [],
   "source": [
    "from torch_geometric.nn import knn_graph\n",
    "\n",
    "# EdgeConv: 고정된 edge_index 사용 \n",
    "    # edge_index 고정 -> feature 변화에 따른 neighbor 관계 반영 X\n",
    "# DynamicEdgeConv: 매 forward()마다 KNN으로 edge_index 새로 계산\n",
    "    # feature 변화에 따라 neighbor 동적으로 선정 -> 적응적 관계 학습 가능\n",
    "\n",
    "class DynamicEdgeConv(EdgeConv):\n",
    "    def __init__(self, in_channels, out_channels, k=6):\n",
    "        super().__init__(in_channels, out_channels)\n",
    "        self.k = k\n",
    "\n",
    "    def forward(self, x, batch=None):\n",
    "        edge_index = knn_graph(x, self.k, batch, loop=False, flow=self.flow)\n",
    "        # x를 기준으로 KNN 계산 -> 각 node마다 k개의 nearset neighbors를 찾음\n",
    "        # 즉, 각 node마다 동적으로 KNN edge_index 생성\n",
    "        return super().forward(x, edge_index)   # 기존 EdgeConv의 forward() 호출\n",
    "    \n",
    "\n",
    "    # batch: 각 노드가 속한 서브 그래프의 인덱스 (shape: [N])"
   ]
  },
  {
   "cell_type": "code",
   "execution_count": 3,
   "id": "ac40dc9b",
   "metadata": {},
   "outputs": [],
   "source": [
    "# example data\n",
    "\n",
    "# 10 nodes, each with 3 features\n",
    "num_nodes = 10     # N (number of nodes)\n",
    "in_channels = 3   # F (number of input features = conv input dimension)\n",
    "out_channels = 128\n",
    "k = 6\n",
    "\n",
    "# node feature matrix (N: number of nodes, F: number of features)\n",
    "x = torch.rand((num_nodes, in_channels))  # (10, 3)\n",
    "\n",
    "# batch vector (all nodes belong to the same graph in single graph example)\n",
    "# (single graph이므로 모두 0)\n",
    "batch = torch.zeros(num_nodes, dtype=torch.long)  # (10,)"
   ]
  },
  {
   "cell_type": "code",
   "execution_count": 4,
   "id": "bbc395a1",
   "metadata": {},
   "outputs": [
    {
     "data": {
      "text/plain": [
       "(tensor([[0.0548, 0.7611, 0.4593],\n",
       "         [0.6971, 0.7277, 0.2306],\n",
       "         [0.3562, 0.0855, 0.3930],\n",
       "         [0.8342, 0.2655, 0.5425],\n",
       "         [0.5323, 0.3262, 0.6632],\n",
       "         [0.2649, 0.4672, 0.5894],\n",
       "         [0.7538, 0.3994, 0.8372],\n",
       "         [0.0619, 0.2658, 0.7181],\n",
       "         [0.8886, 0.7315, 0.9804],\n",
       "         [0.3624, 0.8012, 0.3642]]),\n",
       " tensor([0, 0, 0, 0, 0, 0, 0, 0, 0, 0]),\n",
       " torch.Size([10, 3]),\n",
       " torch.Size([10]))"
      ]
     },
     "execution_count": 4,
     "metadata": {},
     "output_type": "execute_result"
    }
   ],
   "source": [
    "x, batch, x.shape, batch.shape"
   ]
  },
  {
   "cell_type": "code",
   "execution_count": null,
   "id": "d845a808",
   "metadata": {},
   "outputs": [
    {
     "ename": "ImportError",
     "evalue": "'knn_graph' requires 'torch-cluster'",
     "output_type": "error",
     "traceback": [
      "\u001b[31m---------------------------------------------------------------------------\u001b[39m",
      "\u001b[31mImportError\u001b[39m                               Traceback (most recent call last)",
      "\u001b[36mCell\u001b[39m\u001b[36m \u001b[39m\u001b[32mIn[12]\u001b[39m\u001b[32m, line 2\u001b[39m\n\u001b[32m      1\u001b[39m conv = DynamicEdgeConv(in_channels, out_channels, k=k)\n\u001b[32m----> \u001b[39m\u001b[32m2\u001b[39m x = \u001b[43mconv\u001b[49m\u001b[43m(\u001b[49m\u001b[43mx\u001b[49m\u001b[43m,\u001b[49m\u001b[43m \u001b[49m\u001b[43mbatch\u001b[49m\u001b[43m)\u001b[49m\n",
      "\u001b[36mFile \u001b[39m\u001b[32mc:\\Users\\user\\AppData\\Local\\Programs\\Python\\Python313\\Lib\\site-packages\\torch\\nn\\modules\\module.py:1773\u001b[39m, in \u001b[36mModule._wrapped_call_impl\u001b[39m\u001b[34m(self, *args, **kwargs)\u001b[39m\n\u001b[32m   1771\u001b[39m     \u001b[38;5;28;01mreturn\u001b[39;00m \u001b[38;5;28mself\u001b[39m._compiled_call_impl(*args, **kwargs)  \u001b[38;5;66;03m# type: ignore[misc]\u001b[39;00m\n\u001b[32m   1772\u001b[39m \u001b[38;5;28;01melse\u001b[39;00m:\n\u001b[32m-> \u001b[39m\u001b[32m1773\u001b[39m     \u001b[38;5;28;01mreturn\u001b[39;00m \u001b[38;5;28;43mself\u001b[39;49m\u001b[43m.\u001b[49m\u001b[43m_call_impl\u001b[49m\u001b[43m(\u001b[49m\u001b[43m*\u001b[49m\u001b[43margs\u001b[49m\u001b[43m,\u001b[49m\u001b[43m \u001b[49m\u001b[43m*\u001b[49m\u001b[43m*\u001b[49m\u001b[43mkwargs\u001b[49m\u001b[43m)\u001b[49m\n",
      "\u001b[36mFile \u001b[39m\u001b[32mc:\\Users\\user\\AppData\\Local\\Programs\\Python\\Python313\\Lib\\site-packages\\torch\\nn\\modules\\module.py:1784\u001b[39m, in \u001b[36mModule._call_impl\u001b[39m\u001b[34m(self, *args, **kwargs)\u001b[39m\n\u001b[32m   1779\u001b[39m \u001b[38;5;66;03m# If we don't have any hooks, we want to skip the rest of the logic in\u001b[39;00m\n\u001b[32m   1780\u001b[39m \u001b[38;5;66;03m# this function, and just call forward.\u001b[39;00m\n\u001b[32m   1781\u001b[39m \u001b[38;5;28;01mif\u001b[39;00m \u001b[38;5;129;01mnot\u001b[39;00m (\u001b[38;5;28mself\u001b[39m._backward_hooks \u001b[38;5;129;01mor\u001b[39;00m \u001b[38;5;28mself\u001b[39m._backward_pre_hooks \u001b[38;5;129;01mor\u001b[39;00m \u001b[38;5;28mself\u001b[39m._forward_hooks \u001b[38;5;129;01mor\u001b[39;00m \u001b[38;5;28mself\u001b[39m._forward_pre_hooks\n\u001b[32m   1782\u001b[39m         \u001b[38;5;129;01mor\u001b[39;00m _global_backward_pre_hooks \u001b[38;5;129;01mor\u001b[39;00m _global_backward_hooks\n\u001b[32m   1783\u001b[39m         \u001b[38;5;129;01mor\u001b[39;00m _global_forward_hooks \u001b[38;5;129;01mor\u001b[39;00m _global_forward_pre_hooks):\n\u001b[32m-> \u001b[39m\u001b[32m1784\u001b[39m     \u001b[38;5;28;01mreturn\u001b[39;00m \u001b[43mforward_call\u001b[49m\u001b[43m(\u001b[49m\u001b[43m*\u001b[49m\u001b[43margs\u001b[49m\u001b[43m,\u001b[49m\u001b[43m \u001b[49m\u001b[43m*\u001b[49m\u001b[43m*\u001b[49m\u001b[43mkwargs\u001b[49m\u001b[43m)\u001b[49m\n\u001b[32m   1786\u001b[39m result = \u001b[38;5;28;01mNone\u001b[39;00m\n\u001b[32m   1787\u001b[39m called_always_called_hooks = \u001b[38;5;28mset\u001b[39m()\n",
      "\u001b[36mCell\u001b[39m\u001b[36m \u001b[39m\u001b[32mIn[9]\u001b[39m\u001b[32m, line 9\u001b[39m, in \u001b[36mDynamicEdgeConv.forward\u001b[39m\u001b[34m(self, x, batch)\u001b[39m\n\u001b[32m      8\u001b[39m \u001b[38;5;28;01mdef\u001b[39;00m\u001b[38;5;250m \u001b[39m\u001b[34mforward\u001b[39m(\u001b[38;5;28mself\u001b[39m, x, batch=\u001b[38;5;28;01mNone\u001b[39;00m):\n\u001b[32m----> \u001b[39m\u001b[32m9\u001b[39m     edge_index = \u001b[43mknn_graph\u001b[49m\u001b[43m(\u001b[49m\u001b[43mx\u001b[49m\u001b[43m,\u001b[49m\u001b[43m \u001b[49m\u001b[38;5;28;43mself\u001b[39;49m\u001b[43m.\u001b[49m\u001b[43mk\u001b[49m\u001b[43m,\u001b[49m\u001b[43m \u001b[49m\u001b[43mbatch\u001b[49m\u001b[43m,\u001b[49m\u001b[43m \u001b[49m\u001b[43mloop\u001b[49m\u001b[43m=\u001b[49m\u001b[38;5;28;43;01mFalse\u001b[39;49;00m\u001b[43m,\u001b[49m\u001b[43m \u001b[49m\u001b[43mflow\u001b[49m\u001b[43m=\u001b[49m\u001b[38;5;28;43mself\u001b[39;49m\u001b[43m.\u001b[49m\u001b[43mflow\u001b[49m\u001b[43m)\u001b[49m\n\u001b[32m     10\u001b[39m     \u001b[38;5;28;01mreturn\u001b[39;00m \u001b[38;5;28msuper\u001b[39m().forward(x, edge_index)\n",
      "\u001b[36mFile \u001b[39m\u001b[32mc:\\Users\\user\\AppData\\Local\\Programs\\Python\\Python313\\Lib\\site-packages\\torch_geometric\\nn\\pool\\__init__.py:173\u001b[39m, in \u001b[36mknn_graph\u001b[39m\u001b[34m(x, k, batch, loop, flow, cosine, num_workers, batch_size)\u001b[39m\n\u001b[32m    170\u001b[39m     batch = batch.to(x.device)\n\u001b[32m    172\u001b[39m \u001b[38;5;28;01mif\u001b[39;00m \u001b[38;5;129;01mnot\u001b[39;00m torch_geometric.typing.WITH_TORCH_CLUSTER_BATCH_SIZE:\n\u001b[32m--> \u001b[39m\u001b[32m173\u001b[39m     \u001b[38;5;28;01mreturn\u001b[39;00m \u001b[43mtorch_cluster\u001b[49m\u001b[43m.\u001b[49m\u001b[43mknn_graph\u001b[49m(x, k, batch, loop, flow, cosine,\n\u001b[32m    174\u001b[39m                                    num_workers)\n\u001b[32m    175\u001b[39m \u001b[38;5;28;01mreturn\u001b[39;00m torch_cluster.knn_graph(x, k, batch, loop, flow, cosine,\n\u001b[32m    176\u001b[39m                                num_workers, batch_size)\n",
      "\u001b[36mFile \u001b[39m\u001b[32mc:\\Users\\user\\AppData\\Local\\Programs\\Python\\Python313\\Lib\\site-packages\\torch_geometric\\typing.py:149\u001b[39m, in \u001b[36mTorchCluster.__getattr__\u001b[39m\u001b[34m(self, key)\u001b[39m\n\u001b[32m    148\u001b[39m \u001b[38;5;28;01mdef\u001b[39;00m\u001b[38;5;250m \u001b[39m\u001b[34m__getattr__\u001b[39m(\u001b[38;5;28mself\u001b[39m, key: \u001b[38;5;28mstr\u001b[39m) -> Any:\n\u001b[32m--> \u001b[39m\u001b[32m149\u001b[39m     \u001b[38;5;28;01mraise\u001b[39;00m \u001b[38;5;167;01mImportError\u001b[39;00m(\u001b[33mf\u001b[39m\u001b[33m\"\u001b[39m\u001b[33m'\u001b[39m\u001b[38;5;132;01m{\u001b[39;00mkey\u001b[38;5;132;01m}\u001b[39;00m\u001b[33m'\u001b[39m\u001b[33m requires \u001b[39m\u001b[33m'\u001b[39m\u001b[33mtorch-cluster\u001b[39m\u001b[33m'\u001b[39m\u001b[33m\"\u001b[39m)\n",
      "\u001b[31mImportError\u001b[39m: 'knn_graph' requires 'torch-cluster'"
     ]
    }
   ],
   "source": [
    "conv = DynamicEdgeConv(in_channels, out_channels, k=k)\n",
    "x = conv(x, batch)\n",
    "\n",
    "# x.shape: [num_nodes, out_channels] = [10, 128]\n",
    "# x[i]: node i의 새로운 embedding (feature) (shape: [out_channels])"
   ]
  },
  {
   "cell_type": "markdown",
   "id": "0fd1dd9b",
   "metadata": {},
   "source": [
    "##### checking Pytorch version & Installation"
   ]
  },
  {
   "cell_type": "code",
   "execution_count": 7,
   "id": "939f2275",
   "metadata": {},
   "outputs": [
    {
     "data": {
      "text/plain": [
       "'2.8.0+cpu'"
      ]
     },
     "execution_count": 7,
     "metadata": {},
     "output_type": "execute_result"
    }
   ],
   "source": [
    "torch.__version__"
   ]
  },
  {
   "cell_type": "code",
   "execution_count": 8,
   "id": "54de6fd0",
   "metadata": {},
   "outputs": [
    {
     "name": "stdout",
     "output_type": "stream",
     "text": [
      "Looking in links: https://data.pyg.org/whl/torch-2.8.0+cpu.html\n",
      "Collecting torch-scatter\n",
      "  Downloading https://data.pyg.org/whl/torch-2.8.0%2Bcpu/torch_scatter-2.1.2%2Bpt28cpu-cp313-cp313-win_amd64.whl (425 kB)\n",
      "Installing collected packages: torch-scatter\n",
      "Successfully installed torch-scatter-2.1.2+pt28cpu\n"
     ]
    },
    {
     "name": "stderr",
     "output_type": "stream",
     "text": [
      "WARNING: Ignoring invalid distribution ~orch-geometric (C:\\Users\\user\\AppData\\Local\\Programs\\Python\\Python313\\Lib\\site-packages)\n",
      "WARNING: Ignoring invalid distribution ~orch-geometric (C:\\Users\\user\\AppData\\Local\\Programs\\Python\\Python313\\Lib\\site-packages)\n",
      "WARNING: Ignoring invalid distribution ~orch-geometric (C:\\Users\\user\\AppData\\Local\\Programs\\Python\\Python313\\Lib\\site-packages)\n"
     ]
    },
    {
     "name": "stdout",
     "output_type": "stream",
     "text": [
      "Looking in links: https://data.pyg.org/whl/torch-2.8.0+cpu.html\n",
      "Collecting torch-sparse\n",
      "  Downloading https://data.pyg.org/whl/torch-2.8.0%2Bcpu/torch_sparse-0.6.18%2Bpt28cpu-cp313-cp313-win_amd64.whl (769 kB)\n",
      "     ---------------------------------------- 0.0/769.7 kB ? eta -:--:--\n",
      "     ---------------------------------------- 0.0/769.7 kB ? eta -:--:--\n",
      "     ---------------------------------------- 0.0/769.7 kB ? eta -:--:--\n",
      "     ------------- -------------------------- 262.1/769.7 kB ? eta -:--:--\n",
      "     ---------------------------------------- 769.7/769.7 kB 3.1 MB/s  0:00:00\n",
      "Requirement already satisfied: scipy in c:\\users\\user\\appdata\\local\\programs\\python\\python313\\lib\\site-packages (from torch-sparse) (1.15.3)\n",
      "Requirement already satisfied: numpy<2.5,>=1.23.5 in c:\\users\\user\\appdata\\local\\programs\\python\\python313\\lib\\site-packages (from scipy->torch-sparse) (2.2.6)\n",
      "Installing collected packages: torch-sparse\n",
      "Successfully installed torch-sparse-0.6.18+pt28cpu\n"
     ]
    },
    {
     "name": "stderr",
     "output_type": "stream",
     "text": [
      "WARNING: Ignoring invalid distribution ~orch-geometric (C:\\Users\\user\\AppData\\Local\\Programs\\Python\\Python313\\Lib\\site-packages)\n",
      "WARNING: Ignoring invalid distribution ~orch-geometric (C:\\Users\\user\\AppData\\Local\\Programs\\Python\\Python313\\Lib\\site-packages)\n",
      "WARNING: Ignoring invalid distribution ~orch-geometric (C:\\Users\\user\\AppData\\Local\\Programs\\Python\\Python313\\Lib\\site-packages)\n"
     ]
    },
    {
     "name": "stdout",
     "output_type": "stream",
     "text": [
      "Looking in links: https://data.pyg.org/whl/torch-2.8.0+cpu.html\n",
      "Collecting torch-cluster\n",
      "  Downloading https://data.pyg.org/whl/torch-2.8.0%2Bcpu/torch_cluster-1.6.3%2Bpt28cpu-cp313-cp313-win_amd64.whl (525 kB)\n",
      "     ---------------------------------------- 0.0/525.7 kB ? eta -:--:--\n",
      "     ---------------------------------------- 0.0/525.7 kB ? eta -:--:--\n",
      "     ---------------------------------------- 0.0/525.7 kB ? eta -:--:--\n",
      "     ------------------- -------------------- 262.1/525.7 kB ? eta -:--:--\n",
      "     ---------------------------------------- 525.7/525.7 kB 1.6 MB/s  0:00:00\n",
      "Requirement already satisfied: scipy in c:\\users\\user\\appdata\\local\\programs\\python\\python313\\lib\\site-packages (from torch-cluster) (1.15.3)\n",
      "Requirement already satisfied: numpy<2.5,>=1.23.5 in c:\\users\\user\\appdata\\local\\programs\\python\\python313\\lib\\site-packages (from scipy->torch-cluster) (2.2.6)\n",
      "Installing collected packages: torch-cluster\n",
      "Successfully installed torch-cluster-1.6.3+pt28cpu\n"
     ]
    },
    {
     "name": "stderr",
     "output_type": "stream",
     "text": [
      "WARNING: Ignoring invalid distribution ~orch-geometric (C:\\Users\\user\\AppData\\Local\\Programs\\Python\\Python313\\Lib\\site-packages)\n",
      "WARNING: Ignoring invalid distribution ~orch-geometric (C:\\Users\\user\\AppData\\Local\\Programs\\Python\\Python313\\Lib\\site-packages)\n",
      "WARNING: Ignoring invalid distribution ~orch-geometric (C:\\Users\\user\\AppData\\Local\\Programs\\Python\\Python313\\Lib\\site-packages)\n"
     ]
    },
    {
     "name": "stdout",
     "output_type": "stream",
     "text": [
      "Looking in links: https://data.pyg.org/whl/torch-2.8.0+cpu.html\n",
      "Collecting torch-spline-conv\n",
      "  Downloading https://data.pyg.org/whl/torch-2.8.0%2Bcpu/torch_spline_conv-1.2.2%2Bpt28cpu-cp313-cp313-win_amd64.whl (235 kB)\n",
      "Installing collected packages: torch-spline-conv\n",
      "Successfully installed torch-spline-conv-1.2.2+pt28cpu\n"
     ]
    },
    {
     "name": "stderr",
     "output_type": "stream",
     "text": [
      "WARNING: Ignoring invalid distribution ~orch-geometric (C:\\Users\\user\\AppData\\Local\\Programs\\Python\\Python313\\Lib\\site-packages)\n",
      "WARNING: Ignoring invalid distribution ~orch-geometric (C:\\Users\\user\\AppData\\Local\\Programs\\Python\\Python313\\Lib\\site-packages)\n",
      "WARNING: Ignoring invalid distribution ~orch-geometric (C:\\Users\\user\\AppData\\Local\\Programs\\Python\\Python313\\Lib\\site-packages)\n"
     ]
    },
    {
     "name": "stdout",
     "output_type": "stream",
     "text": [
      "Requirement already satisfied: torch-geometric in c:\\users\\user\\appdata\\local\\programs\\python\\python313\\lib\\site-packages (2.7.0)\n",
      "Requirement already satisfied: aiohttp in c:\\users\\user\\appdata\\local\\programs\\python\\python313\\lib\\site-packages (from torch-geometric) (3.12.15)\n",
      "Requirement already satisfied: fsspec in c:\\users\\user\\appdata\\local\\programs\\python\\python313\\lib\\site-packages (from torch-geometric) (2025.7.0)\n",
      "Requirement already satisfied: jinja2 in c:\\users\\user\\appdata\\local\\programs\\python\\python313\\lib\\site-packages (from torch-geometric) (3.1.6)\n",
      "Requirement already satisfied: numpy in c:\\users\\user\\appdata\\local\\programs\\python\\python313\\lib\\site-packages (from torch-geometric) (2.2.6)\n",
      "Requirement already satisfied: psutil>=5.8.0 in c:\\users\\user\\appdata\\local\\programs\\python\\python313\\lib\\site-packages (from torch-geometric) (7.0.0)\n",
      "Requirement already satisfied: pyparsing in c:\\users\\user\\appdata\\local\\programs\\python\\python313\\lib\\site-packages (from torch-geometric) (3.2.3)\n",
      "Requirement already satisfied: requests in c:\\users\\user\\appdata\\local\\programs\\python\\python313\\lib\\site-packages (from torch-geometric) (2.32.3)\n",
      "Requirement already satisfied: tqdm in c:\\users\\user\\appdata\\local\\programs\\python\\python313\\lib\\site-packages (from torch-geometric) (4.67.1)\n",
      "Requirement already satisfied: xxhash in c:\\users\\user\\appdata\\local\\programs\\python\\python313\\lib\\site-packages (from torch-geometric) (3.5.0)\n",
      "Requirement already satisfied: aiohappyeyeballs>=2.5.0 in c:\\users\\user\\appdata\\local\\programs\\python\\python313\\lib\\site-packages (from aiohttp->torch-geometric) (2.6.1)\n",
      "Requirement already satisfied: aiosignal>=1.4.0 in c:\\users\\user\\appdata\\local\\programs\\python\\python313\\lib\\site-packages (from aiohttp->torch-geometric) (1.4.0)\n",
      "Requirement already satisfied: attrs>=17.3.0 in c:\\users\\user\\appdata\\local\\programs\\python\\python313\\lib\\site-packages (from aiohttp->torch-geometric) (25.3.0)\n",
      "Requirement already satisfied: frozenlist>=1.1.1 in c:\\users\\user\\appdata\\local\\programs\\python\\python313\\lib\\site-packages (from aiohttp->torch-geometric) (1.7.0)\n",
      "Requirement already satisfied: multidict<7.0,>=4.5 in c:\\users\\user\\appdata\\local\\programs\\python\\python313\\lib\\site-packages (from aiohttp->torch-geometric) (6.6.3)\n",
      "Requirement already satisfied: propcache>=0.2.0 in c:\\users\\user\\appdata\\local\\programs\\python\\python313\\lib\\site-packages (from aiohttp->torch-geometric) (0.3.2)\n",
      "Requirement already satisfied: yarl<2.0,>=1.17.0 in c:\\users\\user\\appdata\\local\\programs\\python\\python313\\lib\\site-packages (from aiohttp->torch-geometric) (1.20.1)\n",
      "Requirement already satisfied: idna>=2.0 in c:\\users\\user\\appdata\\local\\programs\\python\\python313\\lib\\site-packages (from yarl<2.0,>=1.17.0->aiohttp->torch-geometric) (3.10)\n",
      "Requirement already satisfied: MarkupSafe>=2.0 in c:\\users\\user\\appdata\\local\\programs\\python\\python313\\lib\\site-packages (from jinja2->torch-geometric) (3.0.2)\n",
      "Requirement already satisfied: charset-normalizer<4,>=2 in c:\\users\\user\\appdata\\local\\programs\\python\\python313\\lib\\site-packages (from requests->torch-geometric) (3.4.2)\n",
      "Requirement already satisfied: urllib3<3,>=1.21.1 in c:\\users\\user\\appdata\\local\\programs\\python\\python313\\lib\\site-packages (from requests->torch-geometric) (2.4.0)\n",
      "Requirement already satisfied: certifi>=2017.4.17 in c:\\users\\user\\appdata\\local\\programs\\python\\python313\\lib\\site-packages (from requests->torch-geometric) (2025.4.26)\n",
      "Requirement already satisfied: colorama in c:\\users\\user\\appdata\\local\\programs\\python\\python313\\lib\\site-packages (from tqdm->torch-geometric) (0.4.6)\n"
     ]
    },
    {
     "name": "stderr",
     "output_type": "stream",
     "text": [
      "WARNING: Ignoring invalid distribution ~orch-geometric (C:\\Users\\user\\AppData\\Local\\Programs\\Python\\Python313\\Lib\\site-packages)\n",
      "WARNING: Ignoring invalid distribution ~orch-geometric (C:\\Users\\user\\AppData\\Local\\Programs\\Python\\Python313\\Lib\\site-packages)\n",
      "WARNING: Ignoring invalid distribution ~orch-geometric (C:\\Users\\user\\AppData\\Local\\Programs\\Python\\Python313\\Lib\\site-packages)\n"
     ]
    }
   ],
   "source": [
    "!pip install torch-scatter -f https://data.pyg.org/whl/torch-2.8.0+cpu.html\n",
    "!pip install torch-sparse -f https://data.pyg.org/whl/torch-2.8.0+cpu.html\n",
    "!pip install torch-cluster -f https://data.pyg.org/whl/torch-2.8.0+cpu.html\n",
    "!pip install torch-spline-conv -f https://data.pyg.org/whl/torch-2.8.0+cpu.html\n",
    "!pip install torch-geometric"
   ]
  },
  {
   "cell_type": "code",
   "execution_count": 11,
   "id": "4bda1074",
   "metadata": {},
   "outputs": [
    {
     "name": "stdout",
     "output_type": "stream",
     "text": [
      "2.8.0+cpu\n",
      "2.7.0\n"
     ]
    }
   ],
   "source": [
    "import torch\n",
    "import torch_geometric\n",
    "from torch_geometric.nn import knn_graph\n",
    "\n",
    "print(torch.__version__)        # 2.8.0+cpu\n",
    "print(torch_geometric.__version__)  # 설치된 버전 확인"
   ]
  },
  {
   "cell_type": "markdown",
   "id": "a5f7afcf",
   "metadata": {},
   "source": [
    "Python 3.13 + PyTorch 2.8 CPU에서는 torch-cluster 지원 X\n",
    "(-> Python 3.10~3.11 + Pytorch 2.2~2.6 환경으로 바꿔줘야 함)"
   ]
  },
  {
   "cell_type": "markdown",
   "id": "dbc3e6ee",
   "metadata": {},
   "source": []
  }
 ],
 "metadata": {
  "kernelspec": {
   "display_name": "Python 3",
   "language": "python",
   "name": "python3"
  },
  "language_info": {
   "codemirror_mode": {
    "name": "ipython",
    "version": 3
   },
   "file_extension": ".py",
   "mimetype": "text/x-python",
   "name": "python",
   "nbconvert_exporter": "python",
   "pygments_lexer": "ipython3",
   "version": "3.13.5"
  }
 },
 "nbformat": 4,
 "nbformat_minor": 5
}
